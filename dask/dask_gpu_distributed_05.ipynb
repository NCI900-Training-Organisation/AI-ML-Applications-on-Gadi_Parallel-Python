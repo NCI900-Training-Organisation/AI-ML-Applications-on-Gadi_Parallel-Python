{
 "cells": [
  {
   "cell_type": "markdown",
   "id": "25a59d5a",
   "metadata": {},
   "source": [
    "# Using GPUs with Dask\n",
    "\n"
   ]
  },
  {
   "cell_type": "markdown",
   "id": "e5401030",
   "metadata": {},
   "source": [
    "- Authors: NCI Virtual Research Environment Team\n",
    "- Keywords: Dask, GPU\n",
    "- Creation Date: 2021-May\n",
    "---"
   ]
  },
  {
   "cell_type": "markdown",
   "id": "3f3e7b0a",
   "metadata": {},
   "source": [
    "As part of the [RAPIDs](https://rapids.ai/) ecosystem, NVIDIA provide a way to integrate `Dask` with their `CUDA` stack for GPU operations. \n",
    "\n",
    "This includes `CuPy` for array computations, `CuDF` for `DataFrame` style operations and an interface with `Dask` for parallel GPU computing. \n",
    "\n",
    "We are going to go through a quick example of how `Dask` can be taken to the next level of performance using `GPUs`."
   ]
  },
  {
   "cell_type": "code",
   "execution_count": 1,
   "id": "b8e864eb",
   "metadata": {},
   "outputs": [
    {
     "ename": "ModuleNotFoundError",
     "evalue": "No module named 'dask_cuda'",
     "output_type": "error",
     "traceback": [
      "\u001b[0;31m---------------------------------------------------------------------------\u001b[0m",
      "\u001b[0;31mModuleNotFoundError\u001b[0m                       Traceback (most recent call last)",
      "Input \u001b[0;32mIn [1]\u001b[0m, in \u001b[0;36m<cell line: 1>\u001b[0;34m()\u001b[0m\n\u001b[0;32m----> 1\u001b[0m \u001b[38;5;28;01mfrom\u001b[39;00m \u001b[38;5;21;01mdask_cuda\u001b[39;00m \u001b[38;5;28;01mimport\u001b[39;00m LocalCUDACluster\n\u001b[1;32m      2\u001b[0m \u001b[38;5;28;01mfrom\u001b[39;00m \u001b[38;5;21;01mdask\u001b[39;00m\u001b[38;5;21;01m.\u001b[39;00m\u001b[38;5;21;01mdistributed\u001b[39;00m \u001b[38;5;28;01mimport\u001b[39;00m Client\n\u001b[1;32m      3\u001b[0m cluster \u001b[38;5;241m=\u001b[39m LocalCUDACluster()\n",
      "\u001b[0;31mModuleNotFoundError\u001b[0m: No module named 'dask_cuda'"
     ]
    }
   ],
   "source": [
    "from dask_cuda import LocalCUDACluster\n",
    "from dask.distributed import Client\n",
    "cluster = LocalCUDACluster()\n",
    "client = Client(cluster)"
   ]
  },
  {
   "cell_type": "markdown",
   "id": "36d25f8f",
   "metadata": {},
   "source": [
    "Notice we use a different import above:\n",
    "\n",
    "```python\n",
    "from dask_cuda import LocalCUDACluster\n",
    "from dask.distributed import Client\n",
    "cluster = LocalCUDACluster()\n",
    "client = Client(cluster)\n",
    "\n",
    "```"
   ]
  },
  {
   "cell_type": "code",
   "execution_count": 5,
   "id": "6a8da274",
   "metadata": {},
   "outputs": [
    {
     "ename": "NameError",
     "evalue": "name 'client' is not defined",
     "output_type": "error",
     "traceback": [
      "\u001b[0;31m---------------------------------------------------------------------------\u001b[0m",
      "\u001b[0;31mNameError\u001b[0m                                 Traceback (most recent call last)",
      "Input \u001b[0;32mIn [5]\u001b[0m, in \u001b[0;36m<cell line: 1>\u001b[0;34m()\u001b[0m\n\u001b[0;32m----> 1\u001b[0m \u001b[38;5;28mprint\u001b[39m(\u001b[43mclient\u001b[49m)\n\u001b[1;32m      2\u001b[0m \u001b[38;5;28mprint\u001b[39m(client\u001b[38;5;241m.\u001b[39mdashboard_link)\n",
      "\u001b[0;31mNameError\u001b[0m: name 'client' is not defined"
     ]
    }
   ],
   "source": [
    "print(client)\n",
    "print(client.dashboard_link)"
   ]
  },
  {
   "cell_type": "markdown",
   "id": "4488f917",
   "metadata": {},
   "source": [
    "We will need a few other packages."
   ]
  },
  {
   "cell_type": "code",
   "execution_count": 2,
   "id": "474cafef",
   "metadata": {},
   "outputs": [
    {
     "ename": "ModuleNotFoundError",
     "evalue": "No module named 'cupy'",
     "output_type": "error",
     "traceback": [
      "\u001b[0;31m---------------------------------------------------------------------------\u001b[0m",
      "\u001b[0;31mModuleNotFoundError\u001b[0m                       Traceback (most recent call last)",
      "Input \u001b[0;32mIn [2]\u001b[0m, in \u001b[0;36m<cell line: 4>\u001b[0;34m()\u001b[0m\n\u001b[1;32m      2\u001b[0m \u001b[38;5;28;01mimport\u001b[39;00m \u001b[38;5;21;01mdask\u001b[39;00m\n\u001b[1;32m      3\u001b[0m \u001b[38;5;28;01mimport\u001b[39;00m \u001b[38;5;21;01mdask\u001b[39;00m\u001b[38;5;21;01m.\u001b[39;00m\u001b[38;5;21;01marray\u001b[39;00m \u001b[38;5;28;01mas\u001b[39;00m \u001b[38;5;21;01mda\u001b[39;00m\n\u001b[0;32m----> 4\u001b[0m \u001b[38;5;28;01mimport\u001b[39;00m \u001b[38;5;21;01mcupy\u001b[39;00m \u001b[38;5;28;01mas\u001b[39;00m \u001b[38;5;21;01mcp\u001b[39;00m\n\u001b[1;32m      5\u001b[0m \u001b[38;5;28;01mimport\u001b[39;00m \u001b[38;5;21;01mcudf\u001b[39;00m \u001b[38;5;28;01mas\u001b[39;00m \u001b[38;5;21;01mcd\u001b[39;00m\n",
      "\u001b[0;31mModuleNotFoundError\u001b[0m: No module named 'cupy'"
     ]
    }
   ],
   "source": [
    "import numpy as np\n",
    "import dask\n",
    "import dask.array as da\n",
    "import cupy as cp"
   ]
  },
  {
   "cell_type": "markdown",
   "id": "0fdece96",
   "metadata": {},
   "source": [
    "We are going to make a large amount of random garbage data on the GPU."
   ]
  },
  {
   "cell_type": "code",
   "execution_count": 8,
   "id": "e6ed755a",
   "metadata": {},
   "outputs": [
    {
     "ename": "NameError",
     "evalue": "name 'cp' is not defined",
     "output_type": "error",
     "traceback": [
      "\u001b[0;31m---------------------------------------------------------------------------\u001b[0m",
      "\u001b[0;31mNameError\u001b[0m                                 Traceback (most recent call last)",
      "Input \u001b[0;32mIn [8]\u001b[0m, in \u001b[0;36m<cell line: 1>\u001b[0;34m()\u001b[0m\n\u001b[0;32m----> 1\u001b[0m rs \u001b[38;5;241m=\u001b[39m da\u001b[38;5;241m.\u001b[39mrandom\u001b[38;5;241m.\u001b[39mRandomState(RandomState\u001b[38;5;241m=\u001b[39m\u001b[43mcp\u001b[49m\u001b[38;5;241m.\u001b[39mrandom\u001b[38;5;241m.\u001b[39mRandomState, seed\u001b[38;5;241m=\u001b[39m\u001b[38;5;241m12\u001b[39m)  \u001b[38;5;66;03m# <-- we specify cupy here\u001b[39;00m\n\u001b[1;32m      3\u001b[0m x \u001b[38;5;241m=\u001b[39m rs\u001b[38;5;241m.\u001b[39mrandom((\u001b[38;5;241m100000\u001b[39m, \u001b[38;5;241m1000\u001b[39m), chunks\u001b[38;5;241m=\u001b[39m(\u001b[38;5;241m10000\u001b[39m,\u001b[38;5;241m1000\u001b[39m))\n\u001b[1;32m      5\u001b[0m \u001b[38;5;28mprint\u001b[39m(x\u001b[38;5;241m.\u001b[39mnbytes \u001b[38;5;241m/\u001b[39m \u001b[38;5;241m1e9\u001b[39m) \u001b[38;5;66;03m# in GBs.\u001b[39;00m\n",
      "\u001b[0;31mNameError\u001b[0m: name 'cp' is not defined"
     ]
    }
   ],
   "source": [
    "rs = da.random.RandomState(RandomState=cp.random.RandomState, seed=12)  # <-- we specify cupy here\n",
    "\n",
    "x = rs.random((100000, 1000), chunks=(10000,1000))\n",
    "\n",
    "print(x.nbytes / 1e9) # in GBs.\n",
    "\n",
    " # so quick we don't need to wait, this would take an age on a CPU. \n"
   ]
  },
  {
   "cell_type": "markdown",
   "id": "a47df18a",
   "metadata": {},
   "source": [
    "Notice that our chunks are now `CuPy` arrays. This is important and shows `Dask's` flexibility in building task graphs and chunking."
   ]
  },
  {
   "cell_type": "code",
   "execution_count": null,
   "id": "ecd472f8",
   "metadata": {},
   "outputs": [],
   "source": [
    "%%time\n",
    "x = x.persist()"
   ]
  },
  {
   "cell_type": "code",
   "execution_count": 3,
   "id": "5e9137d1",
   "metadata": {},
   "outputs": [
    {
     "ename": "NameError",
     "evalue": "name 'x' is not defined",
     "output_type": "error",
     "traceback": [
      "\u001b[0;31m---------------------------------------------------------------------------\u001b[0m",
      "\u001b[0;31mNameError\u001b[0m                                 Traceback (most recent call last)",
      "Input \u001b[0;32mIn [3]\u001b[0m, in \u001b[0;36m<cell line: 1>\u001b[0;34m()\u001b[0m\n\u001b[0;32m----> 1\u001b[0m \u001b[43mx\u001b[49m\n",
      "\u001b[0;31mNameError\u001b[0m: name 'x' is not defined"
     ]
    }
   ],
   "source": [
    "x"
   ]
  },
  {
   "cell_type": "markdown",
   "id": "cc102a24",
   "metadata": {},
   "source": [
    "Lets do a little computation on our array, in this case some linear algebra. \n",
    "\n",
    "We will compute a Singular Value Decomposition (SVD). See [here](https://en.wikipedia.org/wiki/Singular_value_decomposition) for more details. \n",
    "\n",
    "The ins and outs of the computation are not super important, but suffice to know its not the cheapest computation around. "
   ]
  },
  {
   "cell_type": "code",
   "execution_count": null,
   "id": "26b5eb40",
   "metadata": {},
   "outputs": [],
   "source": [
    "u, s, v = da.linalg.svd(x)"
   ]
  },
  {
   "cell_type": "code",
   "execution_count": 4,
   "id": "55ff6dca",
   "metadata": {},
   "outputs": [
    {
     "ename": "NameError",
     "evalue": "name 'u' is not defined",
     "output_type": "error",
     "traceback": [
      "\u001b[0;31m---------------------------------------------------------------------------\u001b[0m",
      "\u001b[0;31mNameError\u001b[0m                                 Traceback (most recent call last)",
      "Input \u001b[0;32mIn [4]\u001b[0m, in \u001b[0;36m<cell line: 1>\u001b[0;34m()\u001b[0m\n\u001b[0;32m----> 1\u001b[0m \u001b[43mu\u001b[49m\u001b[38;5;241m.\u001b[39mcompute()\n",
      "\u001b[0;31mNameError\u001b[0m: name 'u' is not defined"
     ]
    }
   ],
   "source": [
    "%%time \n",
    "u.compute()"
   ]
  },
  {
   "cell_type": "markdown",
   "id": "b67baf74",
   "metadata": {},
   "source": [
    "Now lets do the same thing on the CPU using `Dask` without GPU support. First lets close our first client.\n",
    "\n"
   ]
  },
  {
   "cell_type": "code",
   "execution_count": null,
   "id": "d83a0e12",
   "metadata": {},
   "outputs": [],
   "source": [
    "rs2 = da.random.RandomState(RandomState=np.random.RandomState, seed=12)  # <-- we specify cupy here\n",
    "\n",
    "x2 = rs2.random((100000, 1000), chunks=(10000,1000))\n",
    "\n",
    "print(x2.nbytes / 1e9) # in GBs."
   ]
  },
  {
   "cell_type": "code",
   "execution_count": null,
   "id": "6be038c1",
   "metadata": {},
   "outputs": [],
   "source": [
    "%%time\n",
    "x2 = x2.persist()"
   ]
  },
  {
   "cell_type": "code",
   "execution_count": null,
   "id": "7927391a",
   "metadata": {},
   "outputs": [],
   "source": [
    "x2"
   ]
  },
  {
   "cell_type": "code",
   "execution_count": null,
   "id": "25d5f0ad",
   "metadata": {},
   "outputs": [],
   "source": [
    "u2, s2, v2 = da.linalg.svd(x2)"
   ]
  },
  {
   "cell_type": "code",
   "execution_count": null,
   "id": "75f56b09",
   "metadata": {},
   "outputs": [],
   "source": [
    "%%time\n",
    "u2.compute()"
   ]
  },
  {
   "cell_type": "markdown",
   "id": "b702e702",
   "metadata": {},
   "source": [
    "Can you compare the execution times on CPU and GPU?"
   ]
  },
  {
   "cell_type": "markdown",
   "id": "e939d71d",
   "metadata": {},
   "source": [
    "## Challenge \n",
    "\n",
    "Can you compare the CPU vs GPU performance of a different linear algebra operation using `Dask`? Perhaps try a `lu` decomposition with `p, l, u. = da.linalg.lu()`"
   ]
  },
  {
   "cell_type": "code",
   "execution_count": 9,
   "id": "0aa3b0a6",
   "metadata": {},
   "outputs": [],
   "source": [
    "# compare linalg.lu CPU vs GPU performance"
   ]
  },
  {
   "cell_type": "markdown",
   "id": "9762497f",
   "metadata": {},
   "source": [
    "## Disclaimers\n",
    "\n",
    "We have not gone into depth into how Dask-CUDA deals with the threads, blocks and dims of an `NVIDIA` GPU. Tuning these can give you even more performance depending on shape, size and arangement of your data. \n",
    "\n",
    "This is a specialist topic and is better explained by coming to one of out GPU hackathons. Ask when the next ones are at the end!"
   ]
  },
  {
   "cell_type": "markdown",
   "id": "24718180",
   "metadata": {},
   "source": [
    "## Conclusion\n",
    "\n",
    "You have now learned how to mak your workflows even faster using a GPU and Dask. \n",
    "\n",
    "**Jump over to [Notebook 6](./dask_ml_06.ipynb) now.** "
   ]
  },
  {
   "cell_type": "code",
   "execution_count": null,
   "id": "aaac02cb",
   "metadata": {},
   "outputs": [],
   "source": []
  }
 ],
 "metadata": {
  "kernelspec": {
   "display_name": "Python 3 (ipykernel)",
   "language": "python",
   "name": "python3"
  },
  "language_info": {
   "codemirror_mode": {
    "name": "ipython",
    "version": 3
   },
   "file_extension": ".py",
   "mimetype": "text/x-python",
   "name": "python",
   "nbconvert_exporter": "python",
   "pygments_lexer": "ipython3",
   "version": "3.9.2"
  }
 },
 "nbformat": 4,
 "nbformat_minor": 5
}
